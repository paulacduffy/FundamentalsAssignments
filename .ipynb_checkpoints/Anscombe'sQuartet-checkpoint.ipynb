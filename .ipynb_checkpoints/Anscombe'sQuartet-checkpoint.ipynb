{
 "cells": [
  {
   "cell_type": "markdown",
   "metadata": {},
   "source": [
    "# Anscombe's Quartet Analysis"
   ]
  },
  {
   "cell_type": "markdown",
   "metadata": {
    "collapsed": true
   },
   "source": [
    "### Introduction\n",
    "Anscombe's Quartet comprises four datasets that have nearly identical descriptive statistics, yet appear very different when graphed.\n",
    "Shows that four datasets with identical statistical properties can actually be very different, emphasising the importance of using graphs in statistical analysis\n",
    "Published by Francis J Anscombe in 1973 in a paper entitled Graphs in Statistical Analysis\n",
    "Presents a table of numbers containing four distinct datasets, each with statistical properties that are essentially identical:\n",
    "Mean of x values is 9.0\n",
    "Mean of y values is 7.5\n",
    "All have nearly identical variances, correlations & regression lines\n"
   ]
  },
  {
   "cell_type": "code",
   "execution_count": null,
   "metadata": {
    "collapsed": true
   },
   "outputs": [],
   "source": []
  }
 ],
 "metadata": {
  "kernelspec": {
   "display_name": "Python 3",
   "language": "python",
   "name": "python3"
  },
  "language_info": {
   "codemirror_mode": {
    "name": "ipython",
    "version": 3
   },
   "file_extension": ".py",
   "mimetype": "text/x-python",
   "name": "python",
   "nbconvert_exporter": "python",
   "pygments_lexer": "ipython3",
   "version": "3.6.3"
  }
 },
 "nbformat": 4,
 "nbformat_minor": 2
}
